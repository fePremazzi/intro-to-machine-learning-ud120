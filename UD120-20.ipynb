{
 "cells": [
  {
   "cell_type": "markdown",
   "metadata": {},
   "source": [
    "# Bayes Rules"
   ]
  },
  {
   "cell_type": "markdown",
   "metadata": {},
   "source": [
    "Prio probability * teste evidence -----> posterior probability"
   ]
  },
  {
   "cell_type": "markdown",
   "metadata": {},
   "source": [
    "prior P(c) = 0,01 = 1%\n",
    "      P(Pos|c) = 0,90 = 90%\n",
    "      P(Neg|¬C) = 0,90\n",
    "      P(¬C) = 0,99\n",
    "      P(Pos|¬C) = 0,10\n",
    "joint P(c,Pos) = P(c).P(Pos|c) = 0,009\n",
    "          P(¬C,Pos) = P(¬C).P(Pos|¬C) = 0,099\n",
    "normalizer1 P(Pos) = P(c, Pos) + P(¬c,Pos) = 0,009 + 0,099 = 0,108\n",
    "posterior P(c|Pos) = 0,009/0,108 = 0,0833333\n",
    "          P(¬c|Pos) = 0,099/0,108 = 0,9166667\n"
   ]
  },
  {
   "cell_type": "code",
   "execution_count": 6,
   "metadata": {},
   "outputs": [
    {
     "name": "stdout",
     "output_type": "stream",
     "text": [
      "0.04000000000000001\n"
     ]
    }
   ],
   "source": [
    "#Aula34\n",
    "##P(Chris|\"LOVE DEAL\")\n",
    "p1 = 0.1 * 0.8 * 0.5\n",
    "print (p1)"
   ]
  },
  {
   "cell_type": "code",
   "execution_count": 7,
   "metadata": {},
   "outputs": [
    {
     "name": "stdout",
     "output_type": "stream",
     "text": [
      "0.05\n"
     ]
    }
   ],
   "source": [
    "#P(Sara|\"LOVE DEAL\")\n",
    "p2 = 0.5 * 0.2 * 0.5\n",
    "print (p2)"
   ]
  },
  {
   "cell_type": "code",
   "execution_count": 8,
   "metadata": {},
   "outputs": [
    {
     "name": "stdout",
     "output_type": "stream",
     "text": [
      "0.4444444444444445\n",
      "0.5555555555555555\n"
     ]
    }
   ],
   "source": [
    "sum = p1 + p2\n",
    "##P(Chris|\"LOVE DEAL\") = p1 / sum\n",
    "p1sum = p1/sum\n",
    "print(p1sum)\n",
    "##P(Sara|\"LOVE DEAL\") = p2 / sum\n",
    "p2sum = p2/sum\n",
    "print (p2sum)"
   ]
  },
  {
   "cell_type": "code",
   "execution_count": null,
   "metadata": {},
   "outputs": [],
   "source": []
  }
 ],
 "metadata": {
  "kernelspec": {
   "display_name": "Python 3",
   "language": "python",
   "name": "python3"
  },
  "language_info": {
   "codemirror_mode": {
    "name": "ipython",
    "version": 3
   },
   "file_extension": ".py",
   "mimetype": "text/x-python",
   "name": "python",
   "nbconvert_exporter": "python",
   "pygments_lexer": "ipython3",
   "version": "3.6.5"
  }
 },
 "nbformat": 4,
 "nbformat_minor": 2
}
